{
 "cells": [
  {
   "cell_type": "code",
   "execution_count": 1,
   "id": "e3fa98d0-f570-481c-bca9-168f1c9ca9a0",
   "metadata": {
    "tags": []
   },
   "outputs": [
    {
     "name": "stdout",
     "output_type": "stream",
     "text": [
      "\n",
      "-=-= Devin's Rent-a-Car =-=-\n",
      "1. Display Vehicles Currently in Stock\n",
      "2. Rent a Vehicle\n",
      "3. Return a Vehicle\n",
      "4. Exit\n"
     ]
    },
    {
     "ename": "KeyboardInterrupt",
     "evalue": "Interrupted by user",
     "output_type": "error",
     "traceback": [
      "\u001b[1;31m---------------------------------------------------------------------------\u001b[0m",
      "\u001b[1;31mKeyboardInterrupt\u001b[0m                         Traceback (most recent call last)",
      "Cell \u001b[1;32mIn[1], line 54\u001b[0m\n\u001b[0;32m     51\u001b[0m             \u001b[38;5;28mprint\u001b[39m(\u001b[38;5;124m\"\u001b[39m\u001b[38;5;124mInvalid choice. Try again.\u001b[39m\u001b[38;5;124m\"\u001b[39m)\n\u001b[0;32m     53\u001b[0m \u001b[38;5;28;01mif\u001b[39;00m \u001b[38;5;18m__name__\u001b[39m \u001b[38;5;241m==\u001b[39m \u001b[38;5;124m\"\u001b[39m\u001b[38;5;124m__main__\u001b[39m\u001b[38;5;124m\"\u001b[39m:\n\u001b[1;32m---> 54\u001b[0m     main()\n",
      "Cell \u001b[1;32mIn[1], line 15\u001b[0m, in \u001b[0;36mmain\u001b[1;34m()\u001b[0m\n\u001b[0;32m     12\u001b[0m \u001b[38;5;28mprint\u001b[39m(\u001b[38;5;124m\"\u001b[39m\u001b[38;5;124m3. Return a Vehicle\u001b[39m\u001b[38;5;124m\"\u001b[39m)\n\u001b[0;32m     13\u001b[0m \u001b[38;5;28mprint\u001b[39m(\u001b[38;5;124m\"\u001b[39m\u001b[38;5;124m4. Exit\u001b[39m\u001b[38;5;124m\"\u001b[39m)\n\u001b[1;32m---> 15\u001b[0m menu_choice \u001b[38;5;241m=\u001b[39m \u001b[38;5;28minput\u001b[39m(\u001b[38;5;124m\"\u001b[39m\u001b[38;5;124mPlease select an option from the menu (1-4): \u001b[39m\u001b[38;5;124m\"\u001b[39m)\n\u001b[0;32m     17\u001b[0m \u001b[38;5;28;01mif\u001b[39;00m menu_choice \u001b[38;5;241m==\u001b[39m \u001b[38;5;124m'\u001b[39m\u001b[38;5;124m1\u001b[39m\u001b[38;5;124m'\u001b[39m:\n\u001b[0;32m     18\u001b[0m     rental\u001b[38;5;241m.\u001b[39mdisplay_available_cars()\n",
      "File \u001b[1;32m~\\anaconda3\\Lib\\site-packages\\ipykernel\\kernelbase.py:1175\u001b[0m, in \u001b[0;36mKernel.raw_input\u001b[1;34m(self, prompt)\u001b[0m\n\u001b[0;32m   1171\u001b[0m \u001b[38;5;28;01mif\u001b[39;00m \u001b[38;5;129;01mnot\u001b[39;00m \u001b[38;5;28mself\u001b[39m\u001b[38;5;241m.\u001b[39m_allow_stdin:\n\u001b[0;32m   1172\u001b[0m     \u001b[38;5;28;01mraise\u001b[39;00m StdinNotImplementedError(\n\u001b[0;32m   1173\u001b[0m         \u001b[38;5;124m\"\u001b[39m\u001b[38;5;124mraw_input was called, but this frontend does not support input requests.\u001b[39m\u001b[38;5;124m\"\u001b[39m\n\u001b[0;32m   1174\u001b[0m     )\n\u001b[1;32m-> 1175\u001b[0m \u001b[38;5;28;01mreturn\u001b[39;00m \u001b[38;5;28mself\u001b[39m\u001b[38;5;241m.\u001b[39m_input_request(\n\u001b[0;32m   1176\u001b[0m     \u001b[38;5;28mstr\u001b[39m(prompt),\n\u001b[0;32m   1177\u001b[0m     \u001b[38;5;28mself\u001b[39m\u001b[38;5;241m.\u001b[39m_parent_ident[\u001b[38;5;124m\"\u001b[39m\u001b[38;5;124mshell\u001b[39m\u001b[38;5;124m\"\u001b[39m],\n\u001b[0;32m   1178\u001b[0m     \u001b[38;5;28mself\u001b[39m\u001b[38;5;241m.\u001b[39mget_parent(\u001b[38;5;124m\"\u001b[39m\u001b[38;5;124mshell\u001b[39m\u001b[38;5;124m\"\u001b[39m),\n\u001b[0;32m   1179\u001b[0m     password\u001b[38;5;241m=\u001b[39m\u001b[38;5;28;01mFalse\u001b[39;00m,\n\u001b[0;32m   1180\u001b[0m )\n",
      "File \u001b[1;32m~\\anaconda3\\Lib\\site-packages\\ipykernel\\kernelbase.py:1217\u001b[0m, in \u001b[0;36mKernel._input_request\u001b[1;34m(self, prompt, ident, parent, password)\u001b[0m\n\u001b[0;32m   1214\u001b[0m             \u001b[38;5;28;01mbreak\u001b[39;00m\n\u001b[0;32m   1215\u001b[0m \u001b[38;5;28;01mexcept\u001b[39;00m \u001b[38;5;167;01mKeyboardInterrupt\u001b[39;00m:\n\u001b[0;32m   1216\u001b[0m     \u001b[38;5;66;03m# re-raise KeyboardInterrupt, to truncate traceback\u001b[39;00m\n\u001b[1;32m-> 1217\u001b[0m     \u001b[38;5;28;01mraise\u001b[39;00m \u001b[38;5;167;01mKeyboardInterrupt\u001b[39;00m(\u001b[38;5;124m\"\u001b[39m\u001b[38;5;124mInterrupted by user\u001b[39m\u001b[38;5;124m\"\u001b[39m) \u001b[38;5;28;01mfrom\u001b[39;00m \u001b[38;5;28;01mNone\u001b[39;00m\n\u001b[0;32m   1218\u001b[0m \u001b[38;5;28;01mexcept\u001b[39;00m \u001b[38;5;167;01mException\u001b[39;00m:\n\u001b[0;32m   1219\u001b[0m     \u001b[38;5;28mself\u001b[39m\u001b[38;5;241m.\u001b[39mlog\u001b[38;5;241m.\u001b[39mwarning(\u001b[38;5;124m\"\u001b[39m\u001b[38;5;124mInvalid Message:\u001b[39m\u001b[38;5;124m\"\u001b[39m, exc_info\u001b[38;5;241m=\u001b[39m\u001b[38;5;28;01mTrue\u001b[39;00m)\n",
      "\u001b[1;31mKeyboardInterrupt\u001b[0m: Interrupted by user"
     ]
    }
   ],
   "source": [
    "# Online Car Rental Platform project\n",
    "# by Devin Bailey\n",
    "\n",
    "# Import everything from classes from CarRentalClasses file\n",
    "from CarRentalClasses import *\n",
    "\n",
    "def main():\n",
    "    \n",
    "    # Initialize total vehicles in stock, customer dictionary, and customer ID value\n",
    "    rental = CarRental(25)\n",
    "    customers = {}\n",
    "    customer_id_counter = 1\n",
    "    \n",
    "\n",
    "    # Display vehicle rental options to customer.\n",
    "    while True:\n",
    "        print(\"\\n-=-= Devin's Rentals =-=-\")\n",
    "        print(\"1. Display Vehicles Currently in Stock\")\n",
    "        print(\"2. Rent a Vehicle\")\n",
    "        print(\"3. Return a Vehicle\")\n",
    "        print(\"4. Exit\")\n",
    "        \n",
    "        # Ask customer for menu selection.\n",
    "        menu_option = input(\"Please select an option from the menu (1-4): \")\n",
    "\n",
    "        # If customer selects option 1 show number of vehicles in stock\n",
    "        if menu_option == '1':\n",
    "            rental.display_available_cars()\n",
    "        \n",
    "        # If customer selects option 2 ask their name, assign it s unique customer ID and alert them to what it is and that they'll need to use it to return their vehicle(s)..\n",
    "        elif menu_option == '2':\n",
    "            username = input(\"Enter your name: \")\n",
    "            \n",
    "            # Create a unique customer ID to account for customers with the same name.\n",
    "            customer_id = f\"{username}_{customer_id_counter}\"\n",
    "            \n",
    "            # Alert the customer to their unique customer ID so they can use it when returning their car.\n",
    "            print(f\"Your unique customer ID is: {customer_id}. Please use this ID when returning your car.\")\n",
    "            \n",
    "            # Increment the customer ID counter for the next customer.\n",
    "            customer_id_counter += 1\n",
    "            \n",
    "            # Store the customer name with their unique ID.\n",
    "            customers[customer_id] = Customer(username, customer_id)\n",
    "            \n",
    "            # Ask customer for rental type and number of vehicles they want to rent.\n",
    "            rental_type = input(\"Enter rental type (hourly/daily/weekly): \")\n",
    "            num_cars = int(input(\"Enter the number of vehicles you want to rent: \"))\n",
    "            \n",
    "            # Check if there are any vehicles available in stock and if not, alert the customer.\n",
    "            if num_cars > rental.available_cars:\n",
    "                print(\"Sorry, we don't have that many vehicles in stock.\")\n",
    "                continue\n",
    "            \n",
    "            # Check if customer has chosen an available rental option, otherwise explain choices.\n",
    "            if rental_type not in [\"hourly\", \"daily\", \"weekly\"]:\n",
    "                print(\"Please choose from 'hourly', 'daily', or 'weekly'.\")\n",
    "                continue\n",
    "            \n",
    "            # Store customer's rental choices and begin rental\n",
    "            customers[customer_id].rent_car(rental, rental_type, num_cars)\n",
    "        \n",
    "        # Ask customer for their customer ID and if found, return vehicle and display their rental invoice.\n",
    "        elif menu_option == '3':\n",
    "            customer_id = input(\"Enter your unique customer ID: \")\n",
    "            if customer_id not in customers:\n",
    "                print(\"User not found.\")\n",
    "                continue\n",
    "            customers[customer_id].return_car(rental)\n",
    "        \n",
    "        # Exit program\n",
    "        elif menu_option == '4':\n",
    "            break\n",
    "        \n",
    "        # If customer inputs a value other than a correct menu choice, tell them their available menu options.\n",
    "        else:\n",
    "            print(\"Invalid selection. Please choose a menu option (1-4).\")\n",
    "\n",
    "if __name__ == \"__main__\":\n",
    "    main()"
   ]
  },
  {
   "cell_type": "code",
   "execution_count": null,
   "id": "0b2b6967-5711-47ac-bb08-306e9d966275",
   "metadata": {},
   "outputs": [],
   "source": []
  },
  {
   "cell_type": "code",
   "execution_count": null,
   "id": "c780a78e-348b-413f-bbeb-1f799a113ca6",
   "metadata": {},
   "outputs": [],
   "source": []
  },
  {
   "cell_type": "code",
   "execution_count": null,
   "id": "2a40dcf7-370c-4875-bb90-b8e2fcc55582",
   "metadata": {},
   "outputs": [],
   "source": []
  }
 ],
 "metadata": {
  "kernelspec": {
   "display_name": "Python 3 (ipykernel)",
   "language": "python",
   "name": "python3"
  },
  "language_info": {
   "codemirror_mode": {
    "name": "ipython",
    "version": 3
   },
   "file_extension": ".py",
   "mimetype": "text/x-python",
   "name": "python",
   "nbconvert_exporter": "python",
   "pygments_lexer": "ipython3",
   "version": "3.11.4"
  }
 },
 "nbformat": 4,
 "nbformat_minor": 5
}
