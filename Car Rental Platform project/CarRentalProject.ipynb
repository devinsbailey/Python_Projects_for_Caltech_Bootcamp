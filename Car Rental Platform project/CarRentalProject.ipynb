{
 "cells": [
  {
   "cell_type": "code",
   "execution_count": 1,
   "id": "e3fa98d0-f570-481c-bca9-168f1c9ca9a0",
   "metadata": {
    "tags": []
   },
   "outputs": [
    {
     "name": "stdout",
     "output_type": "stream",
     "text": [
      "\n",
      "-=-= Devin's Rentals =-=-\n",
      "1. Display Vehicles Currently in Stock\n",
      "2. Rent a Vehicle\n",
      "3. Return a Vehicle\n",
      "4. Exit\n"
     ]
    }
   ],
   "source": [
    "# Online Car Rental Platform project\n",
    "# by Devin Bailey\n",
    "\n",
    "# Import everything from classes from CarRentalClasses file\n",
    "from CarRentalClasses import *\n",
    "\n",
    "def main():\n",
    "    \n",
    "    # Initialize total vehicles in stock, customer dictionary, and customer ID value\n",
    "    rental = CarRental(25)\n",
    "    customers = {}\n",
    "    customer_id_counter = 1\n",
    "    \n",
    "\n",
    "    # Display vehicle rental options to customer.\n",
    "    while True:\n",
    "        print(\"\\n-=-= Devin's Rentals =-=-\")\n",
    "        print(\"1. Display Vehicles Currently in Stock\")\n",
    "        print(\"2. Rent a Vehicle\")\n",
    "        print(\"3. Return a Vehicle\")\n",
    "        print(\"4. Exit\")\n",
    "        \n",
    "        # Ask customer for menu selection.\n",
    "        menu_option = input(\"Please select an option from the menu (1-4): \")\n",
    "\n",
    "        # If customer selects option 1 show number of vehicles in stock\n",
    "        if menu_option == '1':\n",
    "            rental.display_available_cars()\n",
    "        \n",
    "        # If customer selects option 2 ask their name, assign it s unique customer ID and alert them to what it is and that they'll need to use it to return their vehicle(s)..\n",
    "        elif menu_option == '2':\n",
    "            username = input(\"Enter your name: \")\n",
    "            \n",
    "            # Create a unique customer ID to account for customers with the same name.\n",
    "            customer_id = f\"{username}_{customer_id_counter}\"\n",
    "            \n",
    "            # Alert the customer to their unique customer ID so they can use it when returning their car.\n",
    "            print(f\"Your unique customer ID is: {customer_id}. Please use this ID when returning your car.\")\n",
    "            \n",
    "            # Increment the customer ID counter for the next customer.\n",
    "            customer_id_counter += 1\n",
    "            \n",
    "            # Store the customer name with their unique ID.\n",
    "            customers[customer_id] = Customer(username, customer_id)\n",
    "            \n",
    "            # Ask customer for rental type and number of vehicles they want to rent.\n",
    "            rental_type = input(\"Enter rental type (hourly/daily/weekly): \")\n",
    "            num_cars = int(input(\"Enter the number of vehicles you want to rent: \"))\n",
    "            \n",
    "            # Check if there are any vehicles available in stock and if not, alert the customer.\n",
    "            if num_cars > rental.available_cars:\n",
    "                print(\"Sorry, we don't have that many vehicles in stock.\")\n",
    "                continue\n",
    "            \n",
    "            # Check if customer has chosen an available rental option, otherwise explain choices.\n",
    "            if rental_type not in [\"hourly\", \"daily\", \"weekly\"]:\n",
    "                print(\"Please choose from 'hourly', 'daily', or 'weekly'.\")\n",
    "                continue\n",
    "            \n",
    "            # Store customer's rental choices and begin rental\n",
    "            customers[customer_id].rent_car(rental, rental_type, num_cars)\n",
    "        \n",
    "        # Ask customer for their customer ID and if found, return vehicle and display their rental invoice.\n",
    "        elif menu_option == '3':\n",
    "            customer_id = input(\"Enter your unique customer ID: \")\n",
    "            if customer_id not in customers:\n",
    "                print(\"User not found.\")\n",
    "                continue\n",
    "            customers[customer_id].return_car(rental)\n",
    "        \n",
    "        # Exit program\n",
    "        elif menu_option == '4':\n",
    "            break\n",
    "        \n",
    "        # If customer inputs a value other than a correct menu choice, tell them their available menu options.\n",
    "        else:\n",
    "            print(\"Invalid selection. Please choose a menu option (1-4).\")\n",
    "\n",
    "if __name__ == \"__main__\":\n",
    "    main()"
   ]
  }
 ],
 "metadata": {
  "kernelspec": {
   "display_name": "Python 3 (ipykernel)",
   "language": "python",
   "name": "python3"
  },
  "language_info": {
   "codemirror_mode": {
    "name": "ipython",
    "version": 3
   },
   "file_extension": ".py",
   "mimetype": "text/x-python",
   "name": "python",
   "nbconvert_exporter": "python",
   "pygments_lexer": "ipython3",
   "version": "3.11.5"
  }
 },
 "nbformat": 4,
 "nbformat_minor": 5
}
