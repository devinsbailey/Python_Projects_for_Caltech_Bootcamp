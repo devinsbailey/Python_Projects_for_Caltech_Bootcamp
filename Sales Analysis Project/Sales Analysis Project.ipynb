{
 "cells": [
  {
   "cell_type": "markdown",
   "metadata": {},
   "source": [
    "### Devin Bailey\n",
    "### Sales Analysis Project"
   ]
  },
  {
   "cell_type": "code",
   "execution_count": null,
   "metadata": {},
   "outputs": [],
   "source": [
    "# Import libraries\n",
    "import pandas as pd\n",
    "from sklearn.preprocessing import MinMaxScaler\n",
    "import matplotlib.pyplot as plt\n",
    "import seaborn as sns"
   ]
  },
  {
   "cell_type": "markdown",
   "metadata": {},
   "source": [
    "# AAL Detailed Sales Analysis Report - Q4 2020\n",
    "## Introduction\n",
    "This report presents a detailed analysis of AAL's sales data for the fourth quarter of 2020, aiming to provide actionable insights for strategic planning in the coming year.\n"
   ]
  },
  {
   "cell_type": "code",
   "execution_count": null,
   "metadata": {},
   "outputs": [],
   "source": [
    "# Load the dataset from the Excel file\n",
    "file_path = '1688639662_ausapparalsales4thqrt2020.xlsx'\n",
    "sales_data = pd.read_excel(file_path)"
   ]
  },
  {
   "cell_type": "markdown",
   "metadata": {},
   "source": [
    "## Data Wrangling and Preparation\n",
    "Ensuring data integrity is the first step. We checked for missing values and normalized the sales and units data for uniform analysis across categories."
   ]
  },
  {
   "cell_type": "code",
   "execution_count": null,
   "metadata": {},
   "outputs": [],
   "source": [
    "# Check for missing values and normalize the 'Unit' and 'Sales' columns\n",
    "scaler = MinMaxScaler()\n",
    "sales_data[['Unit', 'Sales']] = scaler.fit_transform(sales_data[['Unit', 'Sales']])"
   ]
  },
  {
   "cell_type": "markdown",
   "metadata": {},
   "source": [
    "## Detailed Descriptive Statistical Analysis\n",
    "A thorough examination of sales and units statistics to gain an understanding of the distribution and central tendencies of the dataset."
   ]
  },
  {
   "cell_type": "code",
   "execution_count": null,
   "metadata": {},
   "outputs": [],
   "source": [
    "descriptive_stats = sales_data[['Sales', 'Unit']].describe()\n",
    "mode_sales = sales_data['Sales'].mode()[0]\n",
    "mode_units = sales_data['Unit'].mode()[0]\n",
    "descriptive_stats.loc['mode'] = [mode_sales, mode_units]\n",
    "\n",
    "# Box Plot for Descriptive Statistics\n",
    "sns.boxplot(data=sales_data[['Sales', 'Unit']])\n",
    "plt.title('Box Plot of Normalized Sales and Units')\n",
    "plt.show()\n",
    "\n",
    "# Descriptive statistics\n",
    "print (descriptive_stats)"
   ]
  },
  {
   "cell_type": "markdown",
   "metadata": {},
   "source": [
    "**Box Plot Insights and Implications**:\n",
    "\n",
    "1. The close similarity in the descriptive statistics for both Sales and Unit suggests a possible proportional relationship between the number of units sold and the sales value.\n",
    "\n",
    "2. The moderate standard deviation indicates that while there is some variability in sales and unit figures, it is not extremely high. This could imply a relatively stable market or consistent sales performance."
   ]
  },
  {
   "cell_type": "markdown",
   "metadata": {},
   "source": [
    "## In-Depth Group and State Analysis\n",
    "Identifying top and bottom sales performers across different demographic groups and states to inform targeted marketing and inventory strategies."
   ]
  },
  {
   "cell_type": "code",
   "execution_count": null,
   "metadata": {},
   "outputs": [],
   "source": [
    "# Group and State sales totals\n",
    "group_sales = sales_data.groupby('Group')['Sales'].sum().round(2)\n",
    "state_sales = sales_data.groupby('State')['Sales'].sum().round(2)\n",
    "\n",
    "# Print group sales and state sales in dollars\n",
    "print(group_sales.map('${:.2f}'.format))\n",
    "print(state_sales.map('${:.2f}'.format))"
   ]
  },
  {
   "cell_type": "markdown",
   "metadata": {},
   "source": [
    "## Comprehensive Time Series Analysis\n",
    "Analyzing sales trends over weeks, months, and quarters to discern seasonal patterns and identify optimal times for marketing initiatives and inventory management."
   ]
  },
  {
   "cell_type": "code",
   "execution_count": null,
   "metadata": {},
   "outputs": [],
   "source": [
    "# Setting the 'Date' column as the index for time series analysis\n",
    "sales_data.set_index('Date', inplace=True)\n",
    "\n",
    "# Weekly Sales Analysis\n",
    "weekly_sales = sales_data[['Sales']].resample('W').sum()\n",
    "\n",
    "# Monthly Sales Analysis\n",
    "monthly_sales = sales_data[['Sales']].resample('M').sum()\n",
    "\n",
    "\n",
    "plt.figure(figsize=(14, 7))\n",
    "sns.lineplot(data=weekly_sales, x=weekly_sales.index, y='Sales', label='Weekly Sales', marker='o')\n",
    "sns.lineplot(data=monthly_sales, x=monthly_sales.index, y='Sales', label='Monthly Sales', marker='x')\n",
    "plt.title('Weekly and Monthly Sales Trends')\n",
    "plt.xlabel('Date')\n",
    "plt.ylabel('Sales')\n",
    "plt.legend()\n",
    "plt.show()"
   ]
  },
  {
   "cell_type": "markdown",
   "metadata": {},
   "source": [
    "## Advanced Data Visualization\n",
    "### Visualization Recommendation: Seaborn\n",
    "Seaborn is chosen for its statistical orientation and aesthetic appeal, which aligns well with our analytical goals.\n",
    "\n",
    "### Visualizations\n",
    "1. **State-wise Sales Analysis for Different Groups**\n",
    "2. **Group-wise Sales Analysis Across Different States**\n",
    "3. **Time-of-the-Day Analysis**"
   ]
  },
  {
   "cell_type": "code",
   "execution_count": null,
   "metadata": {},
   "outputs": [],
   "source": [
    "# Resetting index for ease of plotting\n",
    "sales_data_reset = sales_data.reset_index()\n",
    "\n",
    "# State-wise Sales Analysis for Different Groups using Seaborn\n",
    "sns.barplot(x='State', y='Sales', hue='Group', data=sales_data.reset_index())\n",
    "plt.title('State-wise Sales Analysis for Different Groups')\n",
    "plt.ylabel('Normalized Sales')\n",
    "plt.xlabel('State')\n",
    "plt.show()\n",
    "\n",
    "# Group-wise Sales Analysis Across Different States using Seaborn\n",
    "sns.barplot(x='Group', y='Sales', hue='State', data=sales_data.reset_index())\n",
    "plt.title('Group-wise Sales Analysis Across Different States')\n",
    "plt.ylabel('Normalized Sales')\n",
    "plt.xlabel('Group')\n",
    "plt.show()\n",
    "\n",
    "# Time-of-the-Day Analysis using Seaborn\n",
    "sns.barplot(x='Time', y='Sales', data=sales_data.reset_index())\n",
    "plt.title('Time-of-the-Day Sales Analysis')\n",
    "plt.ylabel('Normalized Sales')\n",
    "plt.xlabel('Time of Day')\n",
    "plt.show()"
   ]
  },
  {
   "cell_type": "markdown",
   "metadata": {},
   "source": [
    "## Expanded Conclusion and Strategic Recommendations\n",
    "### Conclusions\n",
    "\n",
    "Our analysis reveals key insights:\n",
    "\n",
    "### 1. **Sales by Group**:\n",
    "\n",
    "The 'Men' group generated the highest sales, while the 'Seniors' group showed the lowest sales. This indicates a strong market presence in the men's segment and potential for growth in the seniors' segment.\n",
    "\n",
    "### 2. **Sales by State**:\n",
    "\n",
    "Victoria (VIC) showed the highest sales, suggesting a strong market foothold or demand in this region. In contrast, Western Australia (WA) had the lowest sales, indicating a need for strategic intervention to boost market presence.\n",
    "\n",
    "### 3. **Time-of-Day Sales Trends**:\n",
    "\n",
    "The highest sales occurred in the morning, while the evening saw the lowest sales. This pattern suggests customer shopping preferences are skewed towards the earlier parts of the day.\n",
    "\n",
    "### 4. **Weekly and Monthly Sales Trends**:\n",
    "\n",
    "The highest sales were observed in the 52nd week and in December. This trend likely aligns with holiday shopping behavior.\n",
    "\n",
    "\n",
    "### Strategic Recommendations for the Coming Year\n",
    "### 1. **Focus on Seniors' Segment**:\n",
    "\n",
    "Given the low sales in the seniors' segment, consider developing targeted marketing campaigns or product lines catering specifically to this demographic.\n",
    "\n",
    "### 2. **Strategic Initiatives in WA**:\n",
    "\n",
    "Investigate the underlying causes of low sales in WA. Tailor marketing strategies and perhaps enhance distribution channels to improve market penetration.\n",
    "\n",
    "### 3. **Leverage Morning Sales Momentum**:\n",
    "\n",
    "Capitalize on the high morning sales through early bird promotions or special morning deals to enhance customer engagement.\n",
    "\n",
    "### 4. **Seasonal Marketing and Stocking**:\n",
    "\n",
    "Given the spike in sales during the 52nd week and December, increase inventory and marketing efforts during this period to maximize revenue.\n",
    "\n",
    "### 5. **Diverse Product Range for Men**:\n",
    "\n",
    "Continue to strengthen the product offerings for men, as this group shows the highest sales. Explore further diversification within this segment.\n",
    "\n",
    "### 6. **Data-Driven Inventory Management**:\n",
    "\n",
    "Use these insights for inventory planning, ensuring adequate stock levels during peak sales periods and in high-demand segments.\n",
    "\n",
    "### 7. **Online and Omni-channel Strategies**: \n",
    "\n",
    "In response to changing retail landscapes, consider enhancing online sales channels and implementing omni-channel strategies to provide a seamless customer experience."
   ]
  }
 ],
 "metadata": {
  "kernelspec": {
   "display_name": "base",
   "language": "python",
   "name": "python3"
  },
  "language_info": {
   "codemirror_mode": {
    "name": "ipython",
    "version": 3
   },
   "file_extension": ".py",
   "mimetype": "text/x-python",
   "name": "python",
   "nbconvert_exporter": "python",
   "pygments_lexer": "ipython3",
   "version": "3.11.5"
  }
 },
 "nbformat": 4,
 "nbformat_minor": 2
}
